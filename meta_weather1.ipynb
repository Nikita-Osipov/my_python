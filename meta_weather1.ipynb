{
 "cells": [
  {
   "cell_type": "markdown",
   "metadata": {},
   "source": [
    "[MetaWeather](https://www.metaweather.com) - это автоматический агрегатор данных о погоде, который принимает прогнозы погоды от различных прогнозистов и вычисляет наиболее вероятный результат.\n",
    "\n",
    "Идея состоит в том, что объединенные знания прогнозистов произведут лучшее предсказание.\n",
    "\n",
    "**История**\n",
    "\n",
    "Я (Джейсон) собрался на свадьбу друга, которая была частично на улице в непредсказуемой Великобритании. При проверке прогноза погоды я задавался вопросом, должен ли я проверить другого прогнозиста, чтобы увидеть, что он предсказал. Этот процесс привел меня к проверке некоторых сайтов. Пара плохо написанных PHP-скриптов, неуклюжая база данных MySQL и несколько часов спустя я перебирал данные о погоде с нескольких сайтов.\n",
    "\n",
    "Я приступил к созданию внешнего интерфейса и с тех пор собрал около миллиарда точек прогнозов и данных наблюдений по состоянию на начало 2017 года. \n",
    "\n",
    "Далее пример работы с API сайта:"
   ]
  },
  {
   "cell_type": "code",
   "execution_count": 1,
   "metadata": {},
   "outputs": [],
   "source": [
    "import requests\n",
    "import pandas as pd\n",
    "from pprint import pprint as pp"
   ]
  },
  {
   "cell_type": "markdown",
   "metadata": {},
   "source": [
    "Пример получения прогноза погоды в Санкт-Петербурге на 24.09.2019\n",
    "\n",
    "Для начала узнаем ID города:"
   ]
  },
  {
   "cell_type": "code",
   "execution_count": 2,
   "metadata": {},
   "outputs": [],
   "source": [
    "json_city = requests.get(\"https://www.metaweather.com/api/location/search/?query=St Petersburg\").json()"
   ]
  },
  {
   "cell_type": "code",
   "execution_count": 3,
   "metadata": {},
   "outputs": [
    {
     "name": "stdout",
     "output_type": "stream",
     "text": [
      "[{'latt_long': '59.932739,30.306721',\n",
      "  'location_type': 'City',\n",
      "  'title': 'St Petersburg',\n",
      "  'woeid': 2123260}]\n"
     ]
    }
   ],
   "source": [
    "pp(json_city)"
   ]
  },
  {
   "cell_type": "code",
   "execution_count": 4,
   "metadata": {},
   "outputs": [],
   "source": [
    "ident = json_city[0][\"woeid\"]"
   ]
  },
  {
   "cell_type": "code",
   "execution_count": 5,
   "metadata": {},
   "outputs": [
    {
     "name": "stdout",
     "output_type": "stream",
     "text": [
      "2123260\n"
     ]
    }
   ],
   "source": [
    "print(ident)"
   ]
  },
  {
   "cell_type": "markdown",
   "metadata": {},
   "source": [
    "Запрос погоды для определенного дня возвращает историю прогноза, т.е. каким образом менялся прогноз за несколько дней.   \n",
    "Поле predictability показывает вероятность прогноза."
   ]
  },
  {
   "cell_type": "code",
   "execution_count": 6,
   "metadata": {},
   "outputs": [
    {
     "name": "stdout",
     "output_type": "stream",
     "text": [
      "[{'air_pressure': 1015.96,\n",
      "  'applicable_date': '2019-10-01',\n",
      "  'created': '2019-09-24T07:20:28.915907Z',\n",
      "  'humidity': 71,\n",
      "  'id': 4673607827456000,\n",
      "  'max_temp': 21.03,\n",
      "  'min_temp': 16.605,\n",
      "  'predictability': 77,\n",
      "  'the_temp': 28.32,\n",
      "  'visibility': 9.859918078422016,\n",
      "  'weather_state_abbr': 'hr',\n",
      "  'weather_state_name': 'Heavy Rain',\n",
      "  'wind_direction': 27.5,\n",
      "  'wind_direction_compass': 'NNE',\n",
      "  'wind_speed': 4.983335321721149},\n",
      " {'air_pressure': 1015.96,\n",
      "  'applicable_date': '2019-10-01',\n",
      "  'created': '2019-09-24T04:20:28.690001Z',\n",
      "  'humidity': 71,\n",
      "  'id': 5490819576365056,\n",
      "  'max_temp': 21.03,\n",
      "  'min_temp': 16.605,\n",
      "  'predictability': 77,\n",
      "  'the_temp': 28.32,\n",
      "  'visibility': 9.859918078422016,\n",
      "  'weather_state_abbr': 'hr',\n",
      "  'weather_state_name': 'Heavy Rain',\n",
      "  'wind_direction': 27.5,\n",
      "  'wind_direction_compass': 'NNE',\n",
      "  'wind_speed': 4.983335321721149},\n",
      " {'air_pressure': 1014.67,\n",
      "  'applicable_date': '2019-10-01',\n",
      "  'created': '2019-09-24T01:20:29.025872Z',\n",
      "  'humidity': 75,\n",
      "  'id': 5115611501821952,\n",
      "  'max_temp': 29.02,\n",
      "  'min_temp': 25.26,\n",
      "  'predictability': 77,\n",
      "  'the_temp': 28.45,\n",
      "  'visibility': None,\n",
      "  'weather_state_abbr': 'hr',\n",
      "  'weather_state_name': 'Heavy Rain',\n",
      "  'wind_direction': 45.0,\n",
      "  'wind_direction_compass': 'NE',\n",
      "  'wind_speed': 2.5538356000954425}]\n"
     ]
    }
   ],
   "source": [
    "pp(requests.get(\"https://www.metaweather.com/api/location/\"+ str(ident)+\"/2019/10/1/\").json()[:3])"
   ]
  },
  {
   "cell_type": "markdown",
   "metadata": {},
   "source": [
    "Данные на сайте собираются из разных источников. Можно посмотреть такие параметры, как атмосферное давление, максимальная и минимальная температура, скорость ветра, влажность, видимость и вероятность (предсказуемость) данного прогноза."
   ]
  },
  {
   "cell_type": "code",
   "execution_count": 111,
   "metadata": {},
   "outputs": [
    {
     "data": {
      "text/html": [
       "<div>\n",
       "<style scoped>\n",
       "    .dataframe tbody tr th:only-of-type {\n",
       "        vertical-align: middle;\n",
       "    }\n",
       "\n",
       "    .dataframe tbody tr th {\n",
       "        vertical-align: top;\n",
       "    }\n",
       "\n",
       "    .dataframe thead th {\n",
       "        text-align: right;\n",
       "    }\n",
       "</style>\n",
       "<table border=\"1\" class=\"dataframe\">\n",
       "  <thead>\n",
       "    <tr style=\"text-align: right;\">\n",
       "      <th></th>\n",
       "      <th>air_pressure</th>\n",
       "      <th>applicable_date</th>\n",
       "      <th>created</th>\n",
       "      <th>humidity</th>\n",
       "      <th>id</th>\n",
       "      <th>max_temp</th>\n",
       "      <th>min_temp</th>\n",
       "      <th>predictability</th>\n",
       "      <th>the_temp</th>\n",
       "      <th>visibility</th>\n",
       "      <th>weather_state_abbr</th>\n",
       "      <th>weather_state_name</th>\n",
       "      <th>wind_direction</th>\n",
       "      <th>wind_direction_compass</th>\n",
       "      <th>wind_speed</th>\n",
       "    </tr>\n",
       "  </thead>\n",
       "  <tbody>\n",
       "    <tr>\n",
       "      <th>0</th>\n",
       "      <td>1015.975</td>\n",
       "      <td>2019-09-27</td>\n",
       "      <td>2019-09-24T07:20:16.956506Z</td>\n",
       "      <td>74</td>\n",
       "      <td>5834806376005632</td>\n",
       "      <td>20.675</td>\n",
       "      <td>15.195</td>\n",
       "      <td>71</td>\n",
       "      <td>18.950</td>\n",
       "      <td>11.727760</td>\n",
       "      <td>hc</td>\n",
       "      <td>Heavy Cloud</td>\n",
       "      <td>329.510735</td>\n",
       "      <td>NNW</td>\n",
       "      <td>3.423494</td>\n",
       "    </tr>\n",
       "    <tr>\n",
       "      <th>1</th>\n",
       "      <td>1015.975</td>\n",
       "      <td>2019-09-27</td>\n",
       "      <td>2019-09-24T04:20:16.792092Z</td>\n",
       "      <td>74</td>\n",
       "      <td>4845987279405056</td>\n",
       "      <td>20.675</td>\n",
       "      <td>15.195</td>\n",
       "      <td>71</td>\n",
       "      <td>18.885</td>\n",
       "      <td>10.502105</td>\n",
       "      <td>hc</td>\n",
       "      <td>Heavy Cloud</td>\n",
       "      <td>321.989274</td>\n",
       "      <td>NW</td>\n",
       "      <td>3.453320</td>\n",
       "    </tr>\n",
       "    <tr>\n",
       "      <th>2</th>\n",
       "      <td>1015.545</td>\n",
       "      <td>2019-09-27</td>\n",
       "      <td>2019-09-24T01:20:16.974681Z</td>\n",
       "      <td>71</td>\n",
       "      <td>5098331288109056</td>\n",
       "      <td>20.745</td>\n",
       "      <td>15.615</td>\n",
       "      <td>70</td>\n",
       "      <td>19.445</td>\n",
       "      <td>11.183439</td>\n",
       "      <td>lc</td>\n",
       "      <td>Light Cloud</td>\n",
       "      <td>266.931728</td>\n",
       "      <td>W</td>\n",
       "      <td>4.015569</td>\n",
       "    </tr>\n",
       "    <tr>\n",
       "      <th>3</th>\n",
       "      <td>1016.545</td>\n",
       "      <td>2019-09-27</td>\n",
       "      <td>2019-09-23T22:20:17.198340Z</td>\n",
       "      <td>71</td>\n",
       "      <td>6464681248030720</td>\n",
       "      <td>20.745</td>\n",
       "      <td>15.615</td>\n",
       "      <td>70</td>\n",
       "      <td>20.050</td>\n",
       "      <td>12.841568</td>\n",
       "      <td>lc</td>\n",
       "      <td>Light Cloud</td>\n",
       "      <td>321.906990</td>\n",
       "      <td>NW</td>\n",
       "      <td>3.598008</td>\n",
       "    </tr>\n",
       "    <tr>\n",
       "      <th>4</th>\n",
       "      <td>1016.860</td>\n",
       "      <td>2019-09-27</td>\n",
       "      <td>2019-09-23T19:20:19.981937Z</td>\n",
       "      <td>72</td>\n",
       "      <td>4831075152953344</td>\n",
       "      <td>20.845</td>\n",
       "      <td>15.845</td>\n",
       "      <td>70</td>\n",
       "      <td>20.095</td>\n",
       "      <td>13.148525</td>\n",
       "      <td>lc</td>\n",
       "      <td>Light Cloud</td>\n",
       "      <td>280.500000</td>\n",
       "      <td>W</td>\n",
       "      <td>3.486162</td>\n",
       "    </tr>\n",
       "  </tbody>\n",
       "</table>\n",
       "</div>"
      ],
      "text/plain": [
       "   air_pressure applicable_date                      created  humidity  \\\n",
       "0      1015.975      2019-09-27  2019-09-24T07:20:16.956506Z        74   \n",
       "1      1015.975      2019-09-27  2019-09-24T04:20:16.792092Z        74   \n",
       "2      1015.545      2019-09-27  2019-09-24T01:20:16.974681Z        71   \n",
       "3      1016.545      2019-09-27  2019-09-23T22:20:17.198340Z        71   \n",
       "4      1016.860      2019-09-27  2019-09-23T19:20:19.981937Z        72   \n",
       "\n",
       "                 id  max_temp  min_temp  predictability  the_temp  visibility  \\\n",
       "0  5834806376005632    20.675    15.195              71    18.950   11.727760   \n",
       "1  4845987279405056    20.675    15.195              71    18.885   10.502105   \n",
       "2  5098331288109056    20.745    15.615              70    19.445   11.183439   \n",
       "3  6464681248030720    20.745    15.615              70    20.050   12.841568   \n",
       "4  4831075152953344    20.845    15.845              70    20.095   13.148525   \n",
       "\n",
       "  weather_state_abbr weather_state_name  wind_direction  \\\n",
       "0                 hc        Heavy Cloud      329.510735   \n",
       "1                 hc        Heavy Cloud      321.989274   \n",
       "2                 lc        Light Cloud      266.931728   \n",
       "3                 lc        Light Cloud      321.906990   \n",
       "4                 lc        Light Cloud      280.500000   \n",
       "\n",
       "  wind_direction_compass  wind_speed  \n",
       "0                    NNW    3.423494  \n",
       "1                     NW    3.453320  \n",
       "2                      W    4.015569  \n",
       "3                     NW    3.598008  \n",
       "4                      W    3.486162  "
      ]
     },
     "execution_count": 111,
     "metadata": {},
     "output_type": "execute_result"
    }
   ],
   "source": [
    "pd.DataFrame(requests.get(\"https://www.metaweather.com/api/location/\"+ str(ident)+\"/2019/9/27/\").json()).head()"
   ]
  },
  {
   "cell_type": "markdown",
   "metadata": {},
   "source": [
    "## Задание"
   ]
  },
  {
   "cell_type": "markdown",
   "metadata": {},
   "source": [
    "Определите c помощью возможностей модуля *pandas* для города Санкт-Петербург в период с 24 по 27 сентября среднюю наиболее вероятную минимальную температуру."
   ]
  },
  {
   "cell_type": "code",
   "execution_count": 79,
   "metadata": {},
   "outputs": [
    {
     "data": {
      "text/plain": [
       "71"
      ]
     },
     "execution_count": 79,
     "metadata": {},
     "output_type": "execute_result"
    }
   ],
   "source": [
    "f = (pd.DataFrame(requests.get(\"https://www.metaweather.com/api/location/\"+ str(ident)+\"/2019/9/26/\").json()).head())[['predictability','min_temp']].head()\n",
    "max(f['predictability'])"
   ]
  },
  {
   "cell_type": "code",
   "execution_count": 112,
   "metadata": {},
   "outputs": [
    {
     "data": {
      "text/plain": [
       "13.9475"
      ]
     },
     "execution_count": 112,
     "metadata": {},
     "output_type": "execute_result"
    }
   ],
   "source": [
    "import numpy\n",
    "s = []\n",
    "for i in range(24,28):\n",
    "    f = (pd.DataFrame(requests.get(\"https://www.metaweather.com/api/location/\"+ str(ident)+f\"/2019/9/{i}/\").json()).head())[['min_temp','predictability']].head()\n",
    "    p = (f[f.predictability == max(f['predictability'])])\n",
    "    s.append(numpy.mean(p['min_temp']))\n",
    "numpy.mean(s)"
   ]
  },
  {
   "cell_type": "code",
   "execution_count": null,
   "metadata": {},
   "outputs": [],
   "source": []
  },
  {
   "cell_type": "code",
   "execution_count": null,
   "metadata": {},
   "outputs": [],
   "source": []
  }
 ],
 "metadata": {
  "kernelspec": {
   "display_name": "Python 3",
   "language": "python",
   "name": "python3"
  },
  "language_info": {
   "codemirror_mode": {
    "name": "ipython",
    "version": 3
   },
   "file_extension": ".py",
   "mimetype": "text/x-python",
   "name": "python",
   "nbconvert_exporter": "python",
   "pygments_lexer": "ipython3",
   "version": "3.6.5"
  }
 },
 "nbformat": 4,
 "nbformat_minor": 2
}
